{
 "cells": [
  {
   "cell_type": "code",
   "execution_count": 1,
   "metadata": {},
   "outputs": [],
   "source": [
    "import selenium\n",
    "from selenium import webdriver\n",
    "from selenium.webdriver.chrome.service import Service\n",
    "from selenium.webdriver.chrome.options import Options\n",
    "from webdriver_manager.chrome import ChromeDriverManager\n",
    "from selenium.webdriver.common.by import By\n",
    "from selenium.webdriver.support.ui import Select\n",
    "import time\n",
    "from selenium.webdriver.common.keys import Keys"
   ]
  },
  {
   "cell_type": "code",
   "execution_count": 2,
   "metadata": {},
   "outputs": [],
   "source": [
    "options = Options()\n",
    "options.add_experimental_option(\"detach\", True)\n",
    "\n",
    "driver = webdriver.Chrome(service=Service(ChromeDriverManager().install()),\n",
    "                          options=options)\n",
    "\n",
    "driver.get(\"https://www.strava.com/login\")"
   ]
  },
  {
   "cell_type": "code",
   "execution_count": 3,
   "metadata": {},
   "outputs": [],
   "source": [
    "driver.find_element(\"id\", \"email\").send_keys('df119a65719856@crankymonkey.info')\n",
    "driver.find_element(\"id\", \"password\").send_keys('Selenium159')\n",
    "driver.find_element(\"id\", \"login-button\").click()"
   ]
  },
  {
   "cell_type": "code",
   "execution_count": 4,
   "metadata": {},
   "outputs": [],
   "source": [
    "driver.find_element(\"id\", \"open-global-search-button\").click()\n",
    "#Dans le cas d'usage, nous recherchons l'ensemble des coureurs du tour de France, nous allons donc devoir les chercher via la barre de recherche\n",
    "driver.find_element(\"id\", \"global-search-field\").send_keys('jalabert')\n",
    "time.sleep(2)\n",
    "driver.find_element(\"id\", \"global-search-field\").send_keys(Keys.RETURN)"
   ]
  },
  {
   "cell_type": "code",
   "execution_count": 5,
   "metadata": {},
   "outputs": [],
   "source": [
    "#clique sur le premier élément retourné par la recherche\n",
    "time.sleep(2)\n",
    "driver.find_element(By.CLASS_NAME, \"athlete-name-link\").click()"
   ]
  },
  {
   "cell_type": "code",
   "execution_count": 34,
   "metadata": {},
   "outputs": [
    {
     "name": "stdout",
     "output_type": "stream",
     "text": [
      "[{'Distance': '200,09 km', 'link': 'https://www.strava.com/activities/8985072007'}, {'Distance': '103,36 km', 'link': 'https://www.strava.com/activities/8971762285'}, {'Distance': '92,77 km', 'link': 'https://www.strava.com/activities/8959488827'}, {'Distance': '77,05 km', 'link': 'https://www.strava.com/activities/8955183363'}, {'Distance': '180,02 km', 'link': 'https://www.strava.com/activities/8936395257'}, {'Distance': '102,01 km', 'link': 'https://www.strava.com/activities/8925567271'}, {'Distance': '101,66 km', 'link': 'https://www.strava.com/activities/8913224215'}, {'Distance': '164,26 km', 'link': 'https://www.strava.com/activities/8908164370'}, {'Distance': '83,90 km', 'link': 'https://www.strava.com/activities/8896432357'}, {'Distance': '105,01 km', 'link': 'https://www.strava.com/activities/8876756872'}, {'Distance': '105,00 km', 'link': 'https://www.strava.com/activities/8872168810'}, {'Distance': '100,07 km', 'link': 'https://www.strava.com/activities/8847770601'}, {'Distance': '161,54 km', 'link': 'https://www.strava.com/activities/8830882086'}]\n"
     ]
    }
   ],
   "source": [
    "activities = []\n",
    "\n",
    "elements = driver.find_elements(\"id\", \"feed-entry-null\")\n",
    "\n",
    "for element in elements:\n",
    "    links = element.find_elements(\"tag name\", \"a\")\n",
    "    sport = element.find_element(\"tag name\", \"title\").text\n",
    "    if(sport!=\"Vélo\"):\n",
    "        continue\n",
    "    filtered_links = [link.get_attribute(\"href\") for link in links if link.get_attribute(\"href\").startswith(\"https://www.strava.com/activities/\")]\n",
    "\n",
    "    texte = element.find_elements(By.CSS_SELECTOR, '.------packages-ui-Stat-Stat-module__statValue--phtGK')\n",
    "    for textes in texte:\n",
    "        text = textes.text\n",
    "        if 'km' in text and \"/km\" not in text and len(text) <= 10:\n",
    "            distance = text\n",
    "            break\n",
    "\n",
    "    activities.append({\"Distance\": distance, \"link\": filtered_links[0]})\n",
    "\n",
    "print(activities)"
   ]
  },
  {
   "cell_type": "markdown",
   "metadata": {},
   "source": [
    "On ne prend que les activités Vélo"
   ]
  },
  {
   "cell_type": "code",
   "execution_count": null,
   "metadata": {},
   "outputs": [],
   "source": [
    "driver.find_element(By.PARTIAL_LINK_TEXT, \"Par mois\").click()\n",
    "\n",
    "time.sleep(5)\n",
    "\n",
    "for month in range(1,13):\n",
    "    if month < 10:\n",
    "        month = '0' + str(month)\n",
    "    id_mois = 'interval-2023' + str(month)\n",
    "    print(id_mois)\n",
    "    driver.find_element(\"id\", id_mois).click()\n",
    "\n",
    "    time.sleep(3)\n",
    "\n",
    "    elements = driver.find_elements(By.CSS_SELECTOR, '.------packages-ui-Stat-Stat-module__statValue--phtGK')\n",
    "\n",
    "    for element in elements:\n",
    "        try:\n",
    "            text = element.text\n",
    "            if 'km' in text and \"/km\" not in text:\n",
    "                print(text)\n",
    "        except Exception:\n",
    "            print(\"Exception\")\n",
    "            continue\n",
    "    time.sleep(3)"
   ]
  },
  {
   "cell_type": "markdown",
   "metadata": {},
   "source": [
    "On obtient la liste des distances qu'a parcouru l'athlète dans le mois"
   ]
  }
 ],
 "metadata": {
  "kernelspec": {
   "display_name": "Python 3",
   "language": "python",
   "name": "python3"
  },
  "language_info": {
   "codemirror_mode": {
    "name": "ipython",
    "version": 3
   },
   "file_extension": ".py",
   "mimetype": "text/x-python",
   "name": "python",
   "nbconvert_exporter": "python",
   "pygments_lexer": "ipython3",
   "version": "3.10.4"
  }
 },
 "nbformat": 4,
 "nbformat_minor": 2
}
